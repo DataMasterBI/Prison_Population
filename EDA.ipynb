{
 "cells": [
  {
   "cell_type": "code",
   "execution_count": 46,
   "metadata": {},
   "outputs": [],
   "source": [
    "import numpy as np\n",
    "import pandas as pd\n",
    "import matplotlib.pyplot as plt\n",
    "import seaborn as sns\n",
    "import plotly as px\n",
    "import warnings"
   ]
  },
  {
   "cell_type": "code",
   "execution_count": 2,
   "metadata": {},
   "outputs": [],
   "source": [
    "# Importo el csv\n",
    "df_pop = pd.read_csv('populations_states.csv')\n",
    "df_admision = pd.read_csv('admissions_releases_states.csv')\n",
    "pd.options.display.float_format = '{:,.2f}'.format"
   ]
  },
  {
   "cell_type": "code",
   "execution_count": 3,
   "metadata": {},
   "outputs": [
    {
     "data": {
      "text/html": [
       "<div>\n",
       "<style scoped>\n",
       "    .dataframe tbody tr th:only-of-type {\n",
       "        vertical-align: middle;\n",
       "    }\n",
       "\n",
       "    .dataframe tbody tr th {\n",
       "        vertical-align: top;\n",
       "    }\n",
       "\n",
       "    .dataframe thead th {\n",
       "        text-align: right;\n",
       "    }\n",
       "</style>\n",
       "<table border=\"1\" class=\"dataframe\">\n",
       "  <thead>\n",
       "    <tr style=\"text-align: right;\">\n",
       "      <th></th>\n",
       "      <th>admissions_total</th>\n",
       "      <th>admissions_white</th>\n",
       "      <th>admissions_black</th>\n",
       "      <th>admissions_hispanic</th>\n",
       "      <th>admissions_amerind</th>\n",
       "      <th>admissions_asian</th>\n",
       "      <th>admissions_other</th>\n",
       "      <th>releases_total</th>\n",
       "      <th>releases_white</th>\n",
       "      <th>releases_black</th>\n",
       "      <th>releases_hispanic</th>\n",
       "      <th>releases_amerind</th>\n",
       "      <th>releases_asian</th>\n",
       "      <th>releases_other</th>\n",
       "    </tr>\n",
       "  </thead>\n",
       "  <tbody>\n",
       "    <tr>\n",
       "      <th>count</th>\n",
       "      <td>1,914.00</td>\n",
       "      <td>1,914.00</td>\n",
       "      <td>1,914.00</td>\n",
       "      <td>1,914.00</td>\n",
       "      <td>1,914.00</td>\n",
       "      <td>1,914.00</td>\n",
       "      <td>1,914.00</td>\n",
       "      <td>1,914.00</td>\n",
       "      <td>1,914.00</td>\n",
       "      <td>1,914.00</td>\n",
       "      <td>1,914.00</td>\n",
       "      <td>1,914.00</td>\n",
       "      <td>1,914.00</td>\n",
       "      <td>1,914.00</td>\n",
       "    </tr>\n",
       "    <tr>\n",
       "      <th>mean</th>\n",
       "      <td>823.19</td>\n",
       "      <td>452.18</td>\n",
       "      <td>192.45</td>\n",
       "      <td>144.73</td>\n",
       "      <td>19.31</td>\n",
       "      <td>3.86</td>\n",
       "      <td>9.73</td>\n",
       "      <td>878.70</td>\n",
       "      <td>469.85</td>\n",
       "      <td>212.82</td>\n",
       "      <td>160.92</td>\n",
       "      <td>19.41</td>\n",
       "      <td>3.94</td>\n",
       "      <td>11.79</td>\n",
       "    </tr>\n",
       "    <tr>\n",
       "      <th>std</th>\n",
       "      <td>930.79</td>\n",
       "      <td>413.68</td>\n",
       "      <td>268.84</td>\n",
       "      <td>339.85</td>\n",
       "      <td>24.62</td>\n",
       "      <td>4.93</td>\n",
       "      <td>21.34</td>\n",
       "      <td>989.48</td>\n",
       "      <td>416.88</td>\n",
       "      <td>294.99</td>\n",
       "      <td>368.84</td>\n",
       "      <td>25.11</td>\n",
       "      <td>4.89</td>\n",
       "      <td>51.31</td>\n",
       "    </tr>\n",
       "    <tr>\n",
       "      <th>min</th>\n",
       "      <td>1.00</td>\n",
       "      <td>1.00</td>\n",
       "      <td>0.00</td>\n",
       "      <td>0.00</td>\n",
       "      <td>0.00</td>\n",
       "      <td>0.00</td>\n",
       "      <td>0.00</td>\n",
       "      <td>44.00</td>\n",
       "      <td>36.00</td>\n",
       "      <td>0.00</td>\n",
       "      <td>0.00</td>\n",
       "      <td>0.00</td>\n",
       "      <td>0.00</td>\n",
       "      <td>0.00</td>\n",
       "    </tr>\n",
       "    <tr>\n",
       "      <th>25%</th>\n",
       "      <td>318.50</td>\n",
       "      <td>217.00</td>\n",
       "      <td>36.00</td>\n",
       "      <td>0.00</td>\n",
       "      <td>1.00</td>\n",
       "      <td>0.00</td>\n",
       "      <td>0.00</td>\n",
       "      <td>353.00</td>\n",
       "      <td>248.00</td>\n",
       "      <td>37.00</td>\n",
       "      <td>0.00</td>\n",
       "      <td>1.00</td>\n",
       "      <td>0.00</td>\n",
       "      <td>0.00</td>\n",
       "    </tr>\n",
       "    <tr>\n",
       "      <th>50%</th>\n",
       "      <td>617.00</td>\n",
       "      <td>368.50</td>\n",
       "      <td>109.00</td>\n",
       "      <td>26.00</td>\n",
       "      <td>13.00</td>\n",
       "      <td>3.00</td>\n",
       "      <td>2.00</td>\n",
       "      <td>654.00</td>\n",
       "      <td>387.00</td>\n",
       "      <td>121.00</td>\n",
       "      <td>28.00</td>\n",
       "      <td>13.00</td>\n",
       "      <td>3.00</td>\n",
       "      <td>2.00</td>\n",
       "    </tr>\n",
       "    <tr>\n",
       "      <th>75%</th>\n",
       "      <td>861.00</td>\n",
       "      <td>458.00</td>\n",
       "      <td>264.00</td>\n",
       "      <td>96.00</td>\n",
       "      <td>29.00</td>\n",
       "      <td>6.00</td>\n",
       "      <td>13.00</td>\n",
       "      <td>898.75</td>\n",
       "      <td>481.00</td>\n",
       "      <td>269.00</td>\n",
       "      <td>106.00</td>\n",
       "      <td>30.00</td>\n",
       "      <td>6.00</td>\n",
       "      <td>13.00</td>\n",
       "    </tr>\n",
       "    <tr>\n",
       "      <th>max</th>\n",
       "      <td>6,872.00</td>\n",
       "      <td>2,707.00</td>\n",
       "      <td>1,918.00</td>\n",
       "      <td>2,208.00</td>\n",
       "      <td>159.00</td>\n",
       "      <td>40.00</td>\n",
       "      <td>217.00</td>\n",
       "      <td>7,522.00</td>\n",
       "      <td>2,420.00</td>\n",
       "      <td>1,816.00</td>\n",
       "      <td>3,319.00</td>\n",
       "      <td>149.00</td>\n",
       "      <td>34.00</td>\n",
       "      <td>1,911.00</td>\n",
       "    </tr>\n",
       "  </tbody>\n",
       "</table>\n",
       "</div>"
      ],
      "text/plain": [
       "       admissions_total  admissions_white  admissions_black  \\\n",
       "count          1,914.00          1,914.00          1,914.00   \n",
       "mean             823.19            452.18            192.45   \n",
       "std              930.79            413.68            268.84   \n",
       "min                1.00              1.00              0.00   \n",
       "25%              318.50            217.00             36.00   \n",
       "50%              617.00            368.50            109.00   \n",
       "75%              861.00            458.00            264.00   \n",
       "max            6,872.00          2,707.00          1,918.00   \n",
       "\n",
       "       admissions_hispanic  admissions_amerind  admissions_asian  \\\n",
       "count             1,914.00            1,914.00          1,914.00   \n",
       "mean                144.73               19.31              3.86   \n",
       "std                 339.85               24.62              4.93   \n",
       "min                   0.00                0.00              0.00   \n",
       "25%                   0.00                1.00              0.00   \n",
       "50%                  26.00               13.00              3.00   \n",
       "75%                  96.00               29.00              6.00   \n",
       "max               2,208.00              159.00             40.00   \n",
       "\n",
       "       admissions_other  releases_total  releases_white  releases_black  \\\n",
       "count          1,914.00        1,914.00        1,914.00        1,914.00   \n",
       "mean               9.73          878.70          469.85          212.82   \n",
       "std               21.34          989.48          416.88          294.99   \n",
       "min                0.00           44.00           36.00            0.00   \n",
       "25%                0.00          353.00          248.00           37.00   \n",
       "50%                2.00          654.00          387.00          121.00   \n",
       "75%               13.00          898.75          481.00          269.00   \n",
       "max              217.00        7,522.00        2,420.00        1,816.00   \n",
       "\n",
       "       releases_hispanic  releases_amerind  releases_asian  releases_other  \n",
       "count           1,914.00          1,914.00        1,914.00        1,914.00  \n",
       "mean              160.92             19.41            3.94           11.79  \n",
       "std               368.84             25.11            4.89           51.31  \n",
       "min                 0.00              0.00            0.00            0.00  \n",
       "25%                 0.00              1.00            0.00            0.00  \n",
       "50%                28.00             13.00            3.00            2.00  \n",
       "75%               106.00             30.00            6.00           13.00  \n",
       "max             3,319.00            149.00           34.00        1,911.00  "
      ]
     },
     "execution_count": 3,
     "metadata": {},
     "output_type": "execute_result"
    }
   ],
   "source": [
    "df_admision.describe()"
   ]
  },
  {
   "cell_type": "code",
   "execution_count": 4,
   "metadata": {},
   "outputs": [
    {
     "name": "stdout",
     "output_type": "stream",
     "text": [
      "<class 'pandas.core.frame.DataFrame'>\n",
      "RangeIndex: 1914 entries, 0 to 1913\n",
      "Data columns (total 16 columns):\n",
      " #   Column               Non-Null Count  Dtype  \n",
      "---  ------               --------------  -----  \n",
      " 0   date                 1914 non-null   object \n",
      " 1   admissions_total     1914 non-null   int64  \n",
      " 2   admissions_white     1914 non-null   int64  \n",
      " 3   admissions_black     1914 non-null   int64  \n",
      " 4   admissions_hispanic  1914 non-null   float64\n",
      " 5   admissions_amerind   1914 non-null   float64\n",
      " 6   admissions_asian     1914 non-null   float64\n",
      " 7   admissions_other     1914 non-null   float64\n",
      " 8   releases_total       1914 non-null   int64  \n",
      " 9   releases_white       1914 non-null   int64  \n",
      " 10  releases_black       1914 non-null   int64  \n",
      " 11  releases_hispanic    1914 non-null   float64\n",
      " 12  releases_amerind     1914 non-null   float64\n",
      " 13  releases_asian       1914 non-null   float64\n",
      " 14  releases_other       1914 non-null   float64\n",
      " 15  state                1914 non-null   object \n",
      "dtypes: float64(8), int64(6), object(2)\n",
      "memory usage: 239.4+ KB\n"
     ]
    }
   ],
   "source": [
    "df_admision.info()"
   ]
  },
  {
   "cell_type": "code",
   "execution_count": 5,
   "metadata": {},
   "outputs": [
    {
     "data": {
      "text/html": [
       "<div>\n",
       "<style scoped>\n",
       "    .dataframe tbody tr th:only-of-type {\n",
       "        vertical-align: middle;\n",
       "    }\n",
       "\n",
       "    .dataframe tbody tr th {\n",
       "        vertical-align: top;\n",
       "    }\n",
       "\n",
       "    .dataframe thead th {\n",
       "        text-align: right;\n",
       "    }\n",
       "</style>\n",
       "<table border=\"1\" class=\"dataframe\">\n",
       "  <thead>\n",
       "    <tr style=\"text-align: right;\">\n",
       "      <th></th>\n",
       "      <th>incarcerated_total</th>\n",
       "      <th>incarcerated_white</th>\n",
       "      <th>incarcerated_black</th>\n",
       "      <th>incarcerated_hispanic</th>\n",
       "      <th>incarcerated_amerind</th>\n",
       "      <th>incarcerated_asian</th>\n",
       "      <th>incarcerated_other</th>\n",
       "      <th>incarcerated_unknown</th>\n",
       "      <th>incarcerated_nonwhite</th>\n",
       "    </tr>\n",
       "  </thead>\n",
       "  <tbody>\n",
       "    <tr>\n",
       "      <th>count</th>\n",
       "      <td>9,585.00</td>\n",
       "      <td>9,585.00</td>\n",
       "      <td>9,308.00</td>\n",
       "      <td>5,743.00</td>\n",
       "      <td>7,245.00</td>\n",
       "      <td>6,726.00</td>\n",
       "      <td>6,067.00</td>\n",
       "      <td>3,968.00</td>\n",
       "      <td>9,585.00</td>\n",
       "    </tr>\n",
       "    <tr>\n",
       "      <th>mean</th>\n",
       "      <td>27,722.81</td>\n",
       "      <td>11,976.27</td>\n",
       "      <td>11,404.32</td>\n",
       "      <td>5,038.77</td>\n",
       "      <td>463.46</td>\n",
       "      <td>196.77</td>\n",
       "      <td>662.84</td>\n",
       "      <td>59.34</td>\n",
       "      <td>15,746.54</td>\n",
       "    </tr>\n",
       "    <tr>\n",
       "      <th>std</th>\n",
       "      <td>34,571.30</td>\n",
       "      <td>15,489.32</td>\n",
       "      <td>14,361.10</td>\n",
       "      <td>11,480.77</td>\n",
       "      <td>736.10</td>\n",
       "      <td>451.04</td>\n",
       "      <td>1,477.54</td>\n",
       "      <td>93.47</td>\n",
       "      <td>21,146.52</td>\n",
       "    </tr>\n",
       "    <tr>\n",
       "      <th>min</th>\n",
       "      <td>1,128.00</td>\n",
       "      <td>40.00</td>\n",
       "      <td>49.00</td>\n",
       "      <td>0.00</td>\n",
       "      <td>0.00</td>\n",
       "      <td>-1.00</td>\n",
       "      <td>0.00</td>\n",
       "      <td>0.00</td>\n",
       "      <td>163.00</td>\n",
       "    </tr>\n",
       "    <tr>\n",
       "      <th>25%</th>\n",
       "      <td>6,567.00</td>\n",
       "      <td>4,056.00</td>\n",
       "      <td>1,045.50</td>\n",
       "      <td>259.00</td>\n",
       "      <td>35.00</td>\n",
       "      <td>31.00</td>\n",
       "      <td>41.00</td>\n",
       "      <td>3.00</td>\n",
       "      <td>2,583.00</td>\n",
       "    </tr>\n",
       "    <tr>\n",
       "      <th>50%</th>\n",
       "      <td>19,226.00</td>\n",
       "      <td>8,265.00</td>\n",
       "      <td>5,788.50</td>\n",
       "      <td>790.00</td>\n",
       "      <td>215.00</td>\n",
       "      <td>83.00</td>\n",
       "      <td>127.00</td>\n",
       "      <td>19.00</td>\n",
       "      <td>9,811.00</td>\n",
       "    </tr>\n",
       "    <tr>\n",
       "      <th>75%</th>\n",
       "      <td>32,860.00</td>\n",
       "      <td>14,378.00</td>\n",
       "      <td>17,067.00</td>\n",
       "      <td>3,014.50</td>\n",
       "      <td>592.00</td>\n",
       "      <td>191.00</td>\n",
       "      <td>640.00</td>\n",
       "      <td>65.00</td>\n",
       "      <td>21,297.00</td>\n",
       "    </tr>\n",
       "    <tr>\n",
       "      <th>max</th>\n",
       "      <td>219,142.00</td>\n",
       "      <td>130,486.00</td>\n",
       "      <td>82,571.00</td>\n",
       "      <td>57,144.00</td>\n",
       "      <td>4,199.00</td>\n",
       "      <td>3,693.00</td>\n",
       "      <td>10,376.00</td>\n",
       "      <td>514.00</td>\n",
       "      <td>108,209.00</td>\n",
       "    </tr>\n",
       "  </tbody>\n",
       "</table>\n",
       "</div>"
      ],
      "text/plain": [
       "       incarcerated_total  incarcerated_white  incarcerated_black  \\\n",
       "count            9,585.00            9,585.00            9,308.00   \n",
       "mean            27,722.81           11,976.27           11,404.32   \n",
       "std             34,571.30           15,489.32           14,361.10   \n",
       "min              1,128.00               40.00               49.00   \n",
       "25%              6,567.00            4,056.00            1,045.50   \n",
       "50%             19,226.00            8,265.00            5,788.50   \n",
       "75%             32,860.00           14,378.00           17,067.00   \n",
       "max            219,142.00          130,486.00           82,571.00   \n",
       "\n",
       "       incarcerated_hispanic  incarcerated_amerind  incarcerated_asian  \\\n",
       "count               5,743.00              7,245.00            6,726.00   \n",
       "mean                5,038.77                463.46              196.77   \n",
       "std                11,480.77                736.10              451.04   \n",
       "min                     0.00                  0.00               -1.00   \n",
       "25%                   259.00                 35.00               31.00   \n",
       "50%                   790.00                215.00               83.00   \n",
       "75%                 3,014.50                592.00              191.00   \n",
       "max                57,144.00              4,199.00            3,693.00   \n",
       "\n",
       "       incarcerated_other  incarcerated_unknown  incarcerated_nonwhite  \n",
       "count            6,067.00              3,968.00               9,585.00  \n",
       "mean               662.84                 59.34              15,746.54  \n",
       "std              1,477.54                 93.47              21,146.52  \n",
       "min                  0.00                  0.00                 163.00  \n",
       "25%                 41.00                  3.00               2,583.00  \n",
       "50%                127.00                 19.00               9,811.00  \n",
       "75%                640.00                 65.00              21,297.00  \n",
       "max             10,376.00                514.00             108,209.00  "
      ]
     },
     "execution_count": 5,
     "metadata": {},
     "output_type": "execute_result"
    }
   ],
   "source": [
    "df_pop.describe()"
   ]
  },
  {
   "cell_type": "code",
   "execution_count": 6,
   "metadata": {},
   "outputs": [
    {
     "name": "stdout",
     "output_type": "stream",
     "text": [
      "<class 'pandas.core.frame.DataFrame'>\n",
      "RangeIndex: 9585 entries, 0 to 9584\n",
      "Data columns (total 13 columns):\n",
      " #   Column                 Non-Null Count  Dtype  \n",
      "---  ------                 --------------  -----  \n",
      " 0   date                   9585 non-null   object \n",
      " 1   data_or_inferred       9585 non-null   object \n",
      " 2   incarcerated_total     9585 non-null   float64\n",
      " 3   incarcerated_white     9585 non-null   int64  \n",
      " 4   incarcerated_black     9308 non-null   float64\n",
      " 5   incarcerated_hispanic  5743 non-null   float64\n",
      " 6   incarcerated_amerind   7245 non-null   float64\n",
      " 7   incarcerated_asian     6726 non-null   float64\n",
      " 8   incarcerated_other     6067 non-null   float64\n",
      " 9   incarcerated_unknown   3968 non-null   float64\n",
      " 10  incarcerated_nonwhite  9585 non-null   float64\n",
      " 11  state                  9585 non-null   object \n",
      " 12  url                    9585 non-null   object \n",
      "dtypes: float64(8), int64(1), object(4)\n",
      "memory usage: 973.6+ KB\n"
     ]
    }
   ],
   "source": [
    "df_pop.info()"
   ]
  },
  {
   "cell_type": "code",
   "execution_count": 7,
   "metadata": {},
   "outputs": [],
   "source": [
    "# Borro la columna 'url'\n",
    "df_pop.drop(columns='url', inplace=True)"
   ]
  },
  {
   "cell_type": "code",
   "execution_count": 8,
   "metadata": {},
   "outputs": [],
   "source": [
    "# Cambio el tipo de dato de la columna a datetime\n",
    "df_pop['date'] = pd.to_datetime(df_pop['date'])\n",
    "df_admision['date'] = pd.to_datetime(df_admision['date'])\n"
   ]
  },
  {
   "cell_type": "code",
   "execution_count": 9,
   "metadata": {},
   "outputs": [
    {
     "data": {
      "text/plain": [
       "date                        0\n",
       "data_or_inferred            0\n",
       "incarcerated_total          0\n",
       "incarcerated_white          0\n",
       "incarcerated_black        277\n",
       "incarcerated_hispanic    3842\n",
       "incarcerated_amerind     2340\n",
       "incarcerated_asian       2859\n",
       "incarcerated_other       3518\n",
       "incarcerated_unknown     5617\n",
       "incarcerated_nonwhite       0\n",
       "state                       0\n",
       "dtype: int64"
      ]
     },
     "execution_count": 9,
     "metadata": {},
     "output_type": "execute_result"
    }
   ],
   "source": [
    "# Comprobamos si existen datos nulos\n",
    "df_pop.isna().sum()"
   ]
  },
  {
   "cell_type": "code",
   "execution_count": 10,
   "metadata": {},
   "outputs": [],
   "source": [
    "# Imputo la mediana a las columnas con valores faltantes\n",
    "pop_black_median = df_pop['incarcerated_black'].median()\n",
    "df_pop['incarcerated_black'] = df_pop['incarcerated_black'].fillna(pop_black_median)\n",
    "\n",
    "pop_hispanic_median = df_pop['incarcerated_hispanic'].median()\n",
    "df_pop['incarcerated_hispanic'] = df_pop['incarcerated_hispanic'].fillna(pop_hispanic_median)\n",
    "\n",
    "pop_amerind_median = df_pop['incarcerated_amerind'].median()\n",
    "df_pop['incarcerated_amerind'] = df_pop['incarcerated_amerind'].fillna(pop_amerind_median)\n",
    "\n",
    "pop_asian_median = df_pop['incarcerated_asian'].median()\n",
    "df_pop['incarcerated_asian'] = df_pop['incarcerated_asian'].fillna(pop_asian_median)\n",
    "\n",
    "pop_other_median = df_pop['incarcerated_other'].median()\n",
    "df_pop['incarcerated_other'] = df_pop['incarcerated_other'].fillna(pop_other_median)\n",
    "\n",
    "pop_unknown_median = df_pop['incarcerated_unknown'].median()\n",
    "df_pop['incarcerated_unknown'] = df_pop['incarcerated_unknown'].fillna(pop_unknown_median)"
   ]
  },
  {
   "cell_type": "code",
   "execution_count": 11,
   "metadata": {},
   "outputs": [
    {
     "data": {
      "text/plain": [
       "date                   0\n",
       "admissions_total       0\n",
       "admissions_white       0\n",
       "admissions_black       0\n",
       "admissions_hispanic    0\n",
       "admissions_amerind     0\n",
       "admissions_asian       0\n",
       "admissions_other       0\n",
       "releases_total         0\n",
       "releases_white         0\n",
       "releases_black         0\n",
       "releases_hispanic      0\n",
       "releases_amerind       0\n",
       "releases_asian         0\n",
       "releases_other         0\n",
       "state                  0\n",
       "dtype: int64"
      ]
     },
     "execution_count": 11,
     "metadata": {},
     "output_type": "execute_result"
    }
   ],
   "source": [
    "# Comprobamos si existen datos nulos\n",
    "df_admision.isna().sum()"
   ]
  },
  {
   "cell_type": "code",
   "execution_count": 12,
   "metadata": {},
   "outputs": [
    {
     "data": {
      "text/plain": [
       "2022    403\n",
       "2021    624\n",
       "2020    624\n",
       "2019    624\n",
       "2018    624\n",
       "2017    624\n",
       "2016    624\n",
       "2015    612\n",
       "2014    612\n",
       "2013    612\n",
       "2012    522\n",
       "2011    475\n",
       "2010    426\n",
       "2009    341\n",
       "2008    288\n",
       "2007    258\n",
       "2006    252\n",
       "2005    241\n",
       "2004    162\n",
       "2003    144\n",
       "2002    134\n",
       "2001     89\n",
       "2000     72\n",
       "1999     48\n",
       "1998     36\n",
       "1997     24\n",
       "1996     24\n",
       "1995     12\n",
       "1994     12\n",
       "1993     12\n",
       "1992     12\n",
       "1991     12\n",
       "1990      6\n",
       "Name: date, dtype: int64"
      ]
     },
     "execution_count": 12,
     "metadata": {},
     "output_type": "execute_result"
    }
   ],
   "source": [
    "# Numero de observaciones por año\n",
    "df_pop['date'].dt.year.value_counts().sort_index(ascending=False)"
   ]
  },
  {
   "cell_type": "code",
   "execution_count": 13,
   "metadata": {},
   "outputs": [],
   "source": [
    "#Separo por año, mes y dia para hacer las agrupaciones \n",
    "df_admision['year'] = df_admision['date'].dt.year\n",
    "df_admision['month'] = df_admision['date'].dt.month\n",
    "df_admision['day'] = df_admision['date'].dt.day\n",
    "\n",
    "df_pop['year'] = df_pop['date'].dt.year\n",
    "df_pop['month'] = df_pop['date'].dt.month\n",
    "df_pop['day'] = df_pop['date'].dt.day\n"
   ]
  },
  {
   "cell_type": "code",
   "execution_count": 14,
   "metadata": {},
   "outputs": [],
   "source": [
    "# Borro columnas innecesarias\n",
    "df_pop.drop(columns='date', inplace=True)\n",
    "df_pop.drop(columns='data_or_inferred', inplace=True)\n",
    "df_admision.drop(columns='date', inplace=True)"
   ]
  },
  {
   "cell_type": "code",
   "execution_count": 15,
   "metadata": {},
   "outputs": [
    {
     "data": {
      "text/plain": [
       "incarcerated_total       float64\n",
       "incarcerated_white         int64\n",
       "incarcerated_black       float64\n",
       "incarcerated_hispanic    float64\n",
       "incarcerated_amerind     float64\n",
       "incarcerated_asian       float64\n",
       "incarcerated_other       float64\n",
       "incarcerated_unknown     float64\n",
       "incarcerated_nonwhite    float64\n",
       "state                     object\n",
       "year                       int64\n",
       "month                      int64\n",
       "day                        int64\n",
       "dtype: object"
      ]
     },
     "execution_count": 15,
     "metadata": {},
     "output_type": "execute_result"
    }
   ],
   "source": [
    "df_pop.dtypes"
   ]
  },
  {
   "cell_type": "code",
   "execution_count": 16,
   "metadata": {},
   "outputs": [],
   "source": [
    "\n",
    "#Paso la columna state a categoria\n",
    "df_pop['state'] = df_pop['state'].astype('category')\n"
   ]
  },
  {
   "cell_type": "code",
   "execution_count": 17,
   "metadata": {},
   "outputs": [
    {
     "data": {
      "text/plain": [
       "incarcerated_total  incarcerated_white  incarcerated_black  incarcerated_hispanic  incarcerated_amerind  incarcerated_asian  incarcerated_other  incarcerated_unknown  incarcerated_nonwhite  state      year  month  day\n",
       "6,951.00            3823                2,684.00            790.00                 197.00                13.00               127.00              234.00                3,128.00               Wisconsin  1990  7      1      1\n",
       "22,567.00           11844               9,752.00            790.00                 743.00                193.00              127.00              35.00                 10,723.00              Wisconsin  2009  11     1      1\n",
       "22,338.00           12142               9,184.00            790.00                 746.00                241.00              127.00              25.00                 10,196.00              Wisconsin  2014  7      1      1\n",
       "22,337.00           11302               10,138.00           790.00                 676.00                188.00              127.00              33.00                 11,035.00              Wisconsin  2006  4      1      1\n",
       "22,332.00           12200               9,108.00            790.00                 773.00                229.00              127.00              22.00                 10,132.00              Wisconsin  2015  3      1      1\n",
       "                                                                                                                                                                                                                            ..\n",
       "19,948.00           10490               8,236.00            790.00                 959.00                248.00              127.00              15.00                 9,458.00               Wisconsin  2022  1      1      1\n",
       "19,940.00           10525               8,139.00            790.00                 1,010.00              252.00              127.00              14.00                 9,415.00               Wisconsin  2022  5      1      1\n",
       "19,917.00           9512                9,651.00            790.00                 596.00                129.00              127.00              29.00                 10,405.00              Wisconsin  1999  12     1      1\n",
       "19,872.00           10452               8,201.00            790.00                 959.00                246.00              127.00              14.00                 9,420.00               Wisconsin  2022  2      1      1\n",
       "23,717.00           12588               9,853.00            790.00                 991.00                268.00              127.00              17.00                 11,129.00              Wisconsin  2018  1      1      1\n",
       "Length: 387, dtype: int64"
      ]
     },
     "execution_count": 17,
     "metadata": {},
     "output_type": "execute_result"
    }
   ],
   "source": [
    "wis = df_pop[df_pop['state']=='Wisconsin']\n",
    "wis.value_counts()"
   ]
  },
  {
   "cell_type": "code",
   "execution_count": 18,
   "metadata": {},
   "outputs": [
    {
     "data": {
      "text/plain": [
       "43.95320982754164"
      ]
     },
     "execution_count": 18,
     "metadata": {},
     "output_type": "execute_result"
    }
   ],
   "source": [
    "#tasa de encarcelados de raza negra en el estado de Wisconsin\n",
    "rate_black_wis = wis['incarcerated_black'].sum()/wis['incarcerated_total'].sum()*100\n",
    "rate_black_wis"
   ]
  },
  {
   "cell_type": "code",
   "execution_count": 19,
   "metadata": {},
   "outputs": [
    {
     "data": {
      "text/plain": [
       "51.57160314066076"
      ]
     },
     "execution_count": 19,
     "metadata": {},
     "output_type": "execute_result"
    }
   ],
   "source": [
    "# Comparacion de encarcelados de raza blanca vs raza negra en Wisconsin\n",
    "rate_white_wis = wis['incarcerated_white'].sum()/wis['incarcerated_total'].sum()*100\n",
    "rate_white_wis"
   ]
  },
  {
   "attachments": {},
   "cell_type": "markdown",
   "metadata": {},
   "source": [
    "## Podemos apreciar que hay mas encarcelados de raza blanca en comparacion con personas de raza negra en Wisconsin a lo largo del tiempo"
   ]
  },
  {
   "cell_type": "code",
   "execution_count": 50,
   "metadata": {},
   "outputs": [
    {
     "data": {
      "image/png": "[encoded data removed]",
      "text/plain": [
       "<Figure size 640x480 with 1 Axes>"
      ]
     },
     "metadata": {},
     "output_type": "display_data"
    }
   ],
   "source": [
    "sns.barplot(data=wis, x='year', y='incarcerated_total', color='cyan')\n",
    "sns.barplot(data=wis, x='year', y='incarcerated_black', color='black')\n",
    "plt.title('Encarcelados totales vs encarcelados de raza negra en Wisconsin')\n",
    "plt.xticks(rotation=90)\n",
    "plt.show()\n"
   ]
  },
  {
   "cell_type": "code",
   "execution_count": 73,
   "metadata": {},
   "outputs": [
    {
     "data": {
      "text/html": [
       "<div>\n",
       "<style scoped>\n",
       "    .dataframe tbody tr th:only-of-type {\n",
       "        vertical-align: middle;\n",
       "    }\n",
       "\n",
       "    .dataframe tbody tr th {\n",
       "        vertical-align: top;\n",
       "    }\n",
       "\n",
       "    .dataframe thead th {\n",
       "        text-align: right;\n",
       "    }\n",
       "</style>\n",
       "<table border=\"1\" class=\"dataframe\">\n",
       "  <thead>\n",
       "    <tr style=\"text-align: right;\">\n",
       "      <th></th>\n",
       "      <th>year</th>\n",
       "      <th>incarcerated_black</th>\n",
       "      <th>incarcerated_hispanic</th>\n",
       "    </tr>\n",
       "  </thead>\n",
       "  <tbody>\n",
       "    <tr>\n",
       "      <th>0</th>\n",
       "      <td>2000</td>\n",
       "      <td>16,382.00</td>\n",
       "      <td>790.00</td>\n",
       "    </tr>\n",
       "    <tr>\n",
       "      <th>1</th>\n",
       "      <td>2000</td>\n",
       "      <td>16,382.00</td>\n",
       "      <td>790.00</td>\n",
       "    </tr>\n",
       "    <tr>\n",
       "      <th>2</th>\n",
       "      <td>2000</td>\n",
       "      <td>16,361.00</td>\n",
       "      <td>790.00</td>\n",
       "    </tr>\n",
       "    <tr>\n",
       "      <th>3</th>\n",
       "      <td>2000</td>\n",
       "      <td>16,380.00</td>\n",
       "      <td>790.00</td>\n",
       "    </tr>\n",
       "    <tr>\n",
       "      <th>4</th>\n",
       "      <td>2000</td>\n",
       "      <td>16,358.00</td>\n",
       "      <td>790.00</td>\n",
       "    </tr>\n",
       "    <tr>\n",
       "      <th>...</th>\n",
       "      <td>...</td>\n",
       "      <td>...</td>\n",
       "      <td>...</td>\n",
       "    </tr>\n",
       "    <tr>\n",
       "      <th>9580</th>\n",
       "      <td>2022</td>\n",
       "      <td>60,041.00</td>\n",
       "      <td>790.00</td>\n",
       "    </tr>\n",
       "    <tr>\n",
       "      <th>9581</th>\n",
       "      <td>2022</td>\n",
       "      <td>60,370.00</td>\n",
       "      <td>790.00</td>\n",
       "    </tr>\n",
       "    <tr>\n",
       "      <th>9582</th>\n",
       "      <td>2022</td>\n",
       "      <td>60,386.00</td>\n",
       "      <td>790.00</td>\n",
       "    </tr>\n",
       "    <tr>\n",
       "      <th>9583</th>\n",
       "      <td>2022</td>\n",
       "      <td>60,470.00</td>\n",
       "      <td>790.00</td>\n",
       "    </tr>\n",
       "    <tr>\n",
       "      <th>9584</th>\n",
       "      <td>2022</td>\n",
       "      <td>60,652.00</td>\n",
       "      <td>790.00</td>\n",
       "    </tr>\n",
       "  </tbody>\n",
       "</table>\n",
       "<p>9585 rows × 3 columns</p>\n",
       "</div>"
      ],
      "text/plain": [
       "      year  incarcerated_black  incarcerated_hispanic\n",
       "0     2000           16,382.00                 790.00\n",
       "1     2000           16,382.00                 790.00\n",
       "2     2000           16,361.00                 790.00\n",
       "3     2000           16,380.00                 790.00\n",
       "4     2000           16,358.00                 790.00\n",
       "...    ...                 ...                    ...\n",
       "9580  2022           60,041.00                 790.00\n",
       "9581  2022           60,370.00                 790.00\n",
       "9582  2022           60,386.00                 790.00\n",
       "9583  2022           60,470.00                 790.00\n",
       "9584  2022           60,652.00                 790.00\n",
       "\n",
       "[9585 rows x 3 columns]"
      ]
     },
     "execution_count": 73,
     "metadata": {},
     "output_type": "execute_result"
    }
   ],
   "source": [
    "\n",
    "filtro = df_pop[['year', 'incarcerated_black', 'incarcerated_hispanic']]\n",
    "filtro"
   ]
  },
  {
   "cell_type": "code",
   "execution_count": 81,
   "metadata": {},
   "outputs": [
    {
     "data": {
      "image/png": "[encoded data removed]",
      "text/plain": [
       "<Figure size 640x480 with 1 Axes>"
      ]
     },
     "metadata": {},
     "output_type": "display_data"
    }
   ],
   "source": [
    "sns.barplot(filtro, x='year', y='incarcerated_black', color='orange')\n",
    "sns.barplot(filtro, x='year', y='incarcerated_hispanic', color='green')\n",
    "plt.title('Encarcelados de raza negra vs encarcelados hispanos')\n",
    "plt.xticks(rotation=90)\n",
    "plt.show()"
   ]
  },
  {
   "attachments": {},
   "cell_type": "markdown",
   "metadata": {},
   "source": [
    "## Se aprecia una subida importante de encarcelamientos de hispanos desde el año 2005 en adelante"
   ]
  }
 ],
 "metadata": {
  "kernelspec": {
   "display_name": "prison_pop",
   "language": "python",
   "name": "python3"
  },
  "language_info": {
   "codemirror_mode": {
    "name": "ipython",
    "version": 3
   },
   "file_extension": ".py",
   "mimetype": "text/x-python",
   "name": "python",
   "nbconvert_exporter": "python",
   "pygments_lexer": "ipython3",
   "version": "3.11.3"
  },
  "orig_nbformat": 4
 },
 "nbformat": 4,
 "nbformat_minor": 2
}
