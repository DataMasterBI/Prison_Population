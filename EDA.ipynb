{
 "cells": [
  {
   "cell_type": "code",
   "execution_count": 41,
   "metadata": {},
   "outputs": [],
   "source": [
    "import numpy as np\n",
    "import pandas as pd\n",
    "import seaborn as sns\n",
    "import plotly as px\n",
    "import warnings"
   ]
  },
  {
   "cell_type": "code",
   "execution_count": 7,
   "metadata": {},
   "outputs": [],
   "source": [
    "# Importo el csv\n",
    "df = pd.read_csv('populations_states.csv')"
   ]
  },
  {
   "cell_type": "code",
   "execution_count": 39,
   "metadata": {},
   "outputs": [],
   "source": [
    "# Borro la columna 'url'\n",
    "df.drop(columns='url', inplace=True)\n"
   ]
  },
  {
   "cell_type": "code",
   "execution_count": 42,
   "metadata": {},
   "outputs": [
    {
     "data": {
      "text/plain": [
       "<bound method DataFrame.duplicated of             date data_or_inferred  incarcerated_total  incarcerated_white  \\\n",
       "0     2000-01-01         raw data             25213.0                8753   \n",
       "1     2000-02-01         raw data             25213.0                8753   \n",
       "2     2000-03-01         raw data             25161.0                8723   \n",
       "3     2000-04-01         raw data             25200.0                8738   \n",
       "4     2000-05-01         raw data             25226.0                8788   \n",
       "...          ...              ...                 ...                 ...   \n",
       "9580  2022-05-01         raw data            156704.0               90396   \n",
       "9581  2022-06-01         raw data            157426.0               90785   \n",
       "9582  2022-07-01         raw data            157435.0               90792   \n",
       "9583  2022-08-01         raw data            157565.0               90837   \n",
       "9584  2022-09-01         raw data            158041.0               91122   \n",
       "\n",
       "      incarcerated_black  incarcerated_hispanic  incarcerated_amerind  \\\n",
       "0                16382.0                    NaN                   NaN   \n",
       "1                16382.0                    NaN                   NaN   \n",
       "2                16361.0                    NaN                   NaN   \n",
       "3                16380.0                    NaN                   NaN   \n",
       "4                16358.0                    NaN                   NaN   \n",
       "...                  ...                    ...                   ...   \n",
       "9580             60041.0                    NaN                3998.0   \n",
       "9581             60370.0                    NaN                3997.0   \n",
       "9582             60386.0                    NaN                3995.0   \n",
       "9583             60470.0                    NaN                4015.0   \n",
       "9584             60652.0                    NaN                4023.0   \n",
       "\n",
       "      incarcerated_asian  incarcerated_other  incarcerated_unknown  \\\n",
       "0                    NaN                78.0                   NaN   \n",
       "1                    NaN                78.0                   NaN   \n",
       "2                    NaN                77.0                   NaN   \n",
       "3                    NaN                82.0                   NaN   \n",
       "4                    NaN                80.0                   NaN   \n",
       "...                  ...                 ...                   ...   \n",
       "9580              2269.0                 NaN                   NaN   \n",
       "9581              2274.0                 NaN                   NaN   \n",
       "9582              2262.0                 NaN                   NaN   \n",
       "9583              2243.0                 NaN                   NaN   \n",
       "9584              2244.0                 NaN                   NaN   \n",
       "\n",
       "      incarcerated_nonwhite    state  \n",
       "0                   16460.0  Alabama  \n",
       "1                   16460.0  Alabama  \n",
       "2                   16438.0  Alabama  \n",
       "3                   16462.0  Alabama  \n",
       "4                   16438.0  Alabama  \n",
       "...                     ...      ...  \n",
       "9580                66308.0  Federal  \n",
       "9581                66641.0  Federal  \n",
       "9582                66643.0  Federal  \n",
       "9583                66728.0  Federal  \n",
       "9584                66919.0  Federal  \n",
       "\n",
       "[9585 rows x 12 columns]>"
      ]
     },
     "execution_count": 42,
     "metadata": {},
     "output_type": "execute_result"
    }
   ],
   "source": [
    "df.duplicated"
   ]
  }
 ],
 "metadata": {
  "kernelspec": {
   "display_name": "prison_pop",
   "language": "python",
   "name": "python3"
  },
  "language_info": {
   "codemirror_mode": {
    "name": "ipython",
    "version": 3
   },
   "file_extension": ".py",
   "mimetype": "text/x-python",
   "name": "python",
   "nbconvert_exporter": "python",
   "pygments_lexer": "ipython3",
   "version": "3.11.3"
  },
  "orig_nbformat": 4
 },
 "nbformat": 4,
 "nbformat_minor": 2
}
